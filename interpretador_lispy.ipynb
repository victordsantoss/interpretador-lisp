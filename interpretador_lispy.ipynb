{
 "cells": [
  {
   "cell_type": "code",
   "execution_count": 2,
   "metadata": {},
   "outputs": [],
   "source": [
    "def tokenize (chars):\n",
    "    'Converte a string de caracteres em uma lista de tokens'\n",
    "    return chars.replace('(', ' ( ').replace(')', ' ) ').split()"
   ]
  },
  {
   "cell_type": "code",
   "execution_count": 3,
   "metadata": {},
   "outputs": [],
   "source": [
    "def parse(program: str):\n",
    "    \"Lê uma expressão de uma String\"\n",
    "    return read_from_tokens(tokenize(program))"
   ]
  },
  {
   "cell_type": "code",
   "execution_count": 4,
   "metadata": {},
   "outputs": [],
   "source": [
    "def read_from_tokens (tokens: list): \n",
    "    \"Lê uma expressão de uma sequência de tokens\"\n",
    "    if (len(tokens) == 0):\n",
    "        raise SyntaxError ('unexpected EOF')\n",
    "    token = tokens.pop(0)\n",
    "    if token == '(':\n",
    "        L = []\n",
    "        while tokens[0] != ')':\n",
    "            L.append(read_from_tokens(tokens))\n",
    "        tokens.pop(0)\n",
    "        return L\n",
    "    elif token == ')':\n",
    "        raise SyntaxError ('unexpected )')\n",
    "    else:\n",
    "        return atom(token)\n",
    "        "
   ]
  },
  {
   "cell_type": "code",
   "execution_count": 5,
   "metadata": {},
   "outputs": [],
   "source": [
    "def atom(token):\n",
    "    \"Trasnforma números em números e tokens em simbolos\"\n",
    "    try: \n",
    "        return float(token)\n",
    "    except ValueError:\n",
    "        return token"
   ]
  },
  {
   "cell_type": "code",
   "execution_count": 6,
   "metadata": {},
   "outputs": [],
   "source": [
    "import math\n",
    "import operator as op"
   ]
  },
  {
   "cell_type": "code",
   "execution_count": 7,
   "metadata": {},
   "outputs": [],
   "source": [
    "def standard_env():\n",
    "    env = {}\n",
    "    env.update(vars(math))\n",
    "    env.update({\n",
    "        '+':op.add, \n",
    "        '-':op.sub, \n",
    "        '*':op.mul, \n",
    "        '/':op.truediv, \n",
    "        '>':op.gt,\n",
    "        '<':op.lt,\n",
    "        '>=':op.ge,\n",
    "        '<=':op.le,\n",
    "        '=':op.eq, \n",
    "        'abs':     abs,\n",
    "        'append':  op.add,  \n",
    "        'apply':   lambda proc, args: proc(*args),\n",
    "        'begin':   lambda *x: x[-1],\n",
    "        'car':     lambda x: x[0],\n",
    "        'cdr':     lambda x: x[1:], \n",
    "        'cons':    lambda x,y: [x] + y,\n",
    "        'eq?':     op.is_, \n",
    "        'expt':    pow,\n",
    "        'equal?':  op.eq, \n",
    "        'length':  len, \n",
    "        'list':    lambda *x: list(x), \n",
    "        'list?':   lambda x: isinstance(x, list), \n",
    "        'map':     map,\n",
    "        'max':     max,\n",
    "        'min':     min,\n",
    "        'not':     op.not_,\n",
    "        'null?':   lambda x: x == [], \n",
    "        'number?': lambda x: isinstance(x, float),  \n",
    "        'print':   print,\n",
    "        'procedure?': callable,\n",
    "        'round':   round,\n",
    "        'symbol?': lambda x: isinstance(x, str),\n",
    "    })\n",
    "    return env\n",
    "global_env = standard_env()\n",
    "    \n",
    "    "
   ]
  },
  {
   "cell_type": "code",
   "execution_count": 8,
   "metadata": {},
   "outputs": [],
   "source": [
    "def eval(x, env=global_env):\n",
    "    if isinstance(x, str):       \n",
    "        return env[x]\n",
    "    elif isinstance(x, float):     \n",
    "        return x                \n",
    "    elif x[0] == 'if':               \n",
    "        (_, test, conseq, alt) = x\n",
    "        exp = (conseq if eval(test, env) else alt)\n",
    "        return eval(exp, env)\n",
    "    elif x[0] == 'define':          \n",
    "        (_, symbol, exp) = x\n",
    "        env[symbol] = eval(exp, env)\n",
    "    else:                            \n",
    "        proc = eval(x[0], env)\n",
    "        args = [eval(arg, env) for arg in x[1:]]\n",
    "        return proc(*args)"
   ]
  },
  {
   "cell_type": "code",
   "execution_count": 9,
   "metadata": {},
   "outputs": [
    {
     "data": {
      "text/plain": [
       "314.1592653589793"
      ]
     },
     "execution_count": 9,
     "metadata": {},
     "output_type": "execute_result"
    }
   ],
   "source": [
    "eval(parse(\"(begin (define r 10) (* pi (* r r)))\"))\n"
   ]
  },
  {
   "cell_type": "code",
   "execution_count": 11,
   "metadata": {},
   "outputs": [],
   "source": [
    "def repl(prompt='lis.py> '):\n",
    "    while True:\n",
    "        val = eval(parse(input(prompt)))\n",
    "        if val is not None: \n",
    "            print(schemestr(val))"
   ]
  },
  {
   "cell_type": "code",
   "execution_count": 12,
   "metadata": {},
   "outputs": [],
   "source": [
    "def schemestr(exp):\n",
    "    \"Convert a Python object back into a Scheme-readable string.\"\n",
    "    if isinstance(exp, list):\n",
    "        return '(' + ' '.join(map(schemestr, exp)) + ')' \n",
    "    else:\n",
    "        return str(exp)"
   ]
  },
  {
   "cell_type": "code",
   "execution_count": null,
   "metadata": {},
   "outputs": [],
   "source": [
    "repl()"
   ]
  }
 ],
 "metadata": {
  "kernelspec": {
   "display_name": "Python 3",
   "language": "python",
   "name": "python3"
  },
  "language_info": {
   "codemirror_mode": {
    "name": "ipython",
    "version": 3
   },
   "file_extension": ".py",
   "mimetype": "text/x-python",
   "name": "python",
   "nbconvert_exporter": "python",
   "pygments_lexer": "ipython3",
   "version": "3.7.4"
  }
 },
 "nbformat": 4,
 "nbformat_minor": 2
}
